{
 "cells": [
  {
   "cell_type": "markdown",
   "id": "2368fbb9",
   "metadata": {},
   "source": [
    "# TP"
   ]
  }
 ],
 "metadata": {
  "language_info": {
   "name": "python"
  }
 },
 "nbformat": 4,
 "nbformat_minor": 5
}
