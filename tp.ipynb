{
 "cells": [
  {
   "cell_type": "markdown",
   "id": "2368fbb9",
   "metadata": {},
   "source": [
    "# TP"
   ]
  },
  {
   "cell_type": "code",
   "execution_count": null,
   "id": "a407f0b6",
   "metadata": {},
   "outputs": [],
   "source": [
    "import pandas as pd\n",
    "import numpy as np\n",
    "import matplotlib.pyplot as plt\n",
    "import seaborn as sns"
   ]
  },
  {
   "cell_type": "code",
   "execution_count": null,
   "id": "0de9834e",
   "metadata": {},
   "outputs": [],
   "source": [
    "df = pd.read_csv('./listings_big.csv')\n",
    "df.info()"
   ]
  },
  {
   "cell_type": "code",
   "execution_count": null,
   "id": "ff135cec",
   "metadata": {},
   "outputs": [],
   "source": [
    "df.head()"
   ]
  },
  {
   "cell_type": "code",
   "execution_count": null,
   "id": "02486536",
   "metadata": {},
   "outputs": [],
   "source": [
    "df.shape\n",
    "df['price'] = df['price'].str.replace(r'[€$£,]', '', regex=True)\n",
    "df['price'] = pd.to_numeric(df['price'], errors='coerce')"
   ]
  },
  {
   "cell_type": "code",
   "execution_count": null,
   "id": "f3002fb3",
   "metadata": {},
   "outputs": [],
   "source": [
    "df.isna().sum()"
   ]
  },
  {
   "cell_type": "code",
   "execution_count": null,
   "id": "362311e0",
   "metadata": {},
   "outputs": [],
   "source": [
    "prices = df['price'].dropna()\n",
    "# Filter extreme outliers (top 1%) for readability\n",
    "filtered = prices[prices <= prices.quantile(0.99)]\n",
    "plt.figure(figsize=(8,5))\n",
    "sns.histplot(filtered, bins=50, kde=True)\n",
    "plt.title('Price Distribution (<= 99th percentile)')\n",
    "plt.xlabel('Price')\n",
    "plt.ylabel('Count')\n",
    "plt.tight_layout()\n",
    "plt.show()"
   ]
  },
  {
   "cell_type": "code",
   "execution_count": null,
   "id": "727c9126",
   "metadata": {},
   "outputs": [],
   "source": [
    "room_prices = df[['price', 'room_type']].dropna()\n",
    "p99 = room_prices['price'].quantile(0.99)\n",
    "subset = room_prices[room_prices['price'] <= p99]\n",
    "g = sns.displot(data=subset, x='price', col='room_type', col_wrap=2, \n",
    "                 bins=50, kind='hist', kde=True, height=3.0, aspect=1.4,\n",
    "                 facet_kws={'sharex': True, 'sharey': True})\n",
    "g.set(xlabel='Price', ylabel='Count')\n",
    "g.set_titles('room_type = {col_name}')\n",
    "g.fig.suptitle('Price Distribution by Room Type (<= 99th percentile)', y=1.02)"
   ]
  },
  {
   "cell_type": "code",
   "execution_count": null,
   "id": "7a54c44c",
   "metadata": {},
   "outputs": [],
   "source": [
    "medians = (\n",
    "    df.groupby('room_type', dropna=False)['price']\n",
    "      .median()\n",
    "      .sort_values(ascending=False)\n",
    ")\n",
    "medians"
   ]
  },
  {
   "cell_type": "code",
   "execution_count": null,
   "id": "ff0bdbb8f90a805",
   "metadata": {},
   "outputs": [],
   "source": []
  }
 ],
 "metadata": {
  "kernelspec": {
   "display_name": "tp",
   "language": "python",
   "name": "python3"
  },
  "language_info": {
   "codemirror_mode": {
    "name": "ipython",
    "version": 3
   },
   "file_extension": ".py",
   "mimetype": "text/x-python",
   "name": "python",
   "nbconvert_exporter": "python",
   "pygments_lexer": "ipython3",
   "version": "3.11.13"
  }
 },
 "nbformat": 4,
 "nbformat_minor": 5
}
